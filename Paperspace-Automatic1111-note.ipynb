{
 "cells": [
  {
   "cell_type": "code",
   "execution_count": null,
   "id": "7eb3d7ee-a66d-441e-87bd-9db0d64dd6f8",
   "metadata": {},
   "outputs": [],
   "source": [
    "#FastAPIのバージョン調整\n",
    "!pip install --upgrade fastapi==0.90.1"
   ]
  },
  {
   "cell_type": "code",
   "execution_count": null,
   "id": "1e1e85f7-0bc8-47d6-a6fc-852fccaa9aee",
   "metadata": {},
   "outputs": [],
   "source": [
    "#webuiをクローン\n",
    "%cd /notebooks\n",
    "!git clone https://github.com/AUTOMATIC1111/stable-diffusion-webui"
   ]
  },
  {
   "cell_type": "code",
   "execution_count": null,
   "id": "c32bc2b2-e3e7-4876-a118-0c3ed8d71430",
   "metadata": {},
   "outputs": [],
   "source": [
    "#最新版に更新\n",
    "%cd /notebooks/stable-diffusion-webui\n",
    "!git checkout master\n",
    "!git pull"
   ]
  },
  {
   "cell_type": "code",
   "execution_count": null,
   "id": "745825b4-4258-42fa-8e74-27f1414eb809",
   "metadata": {},
   "outputs": [],
   "source": [
    "#モデルやvaeをダウンロード\n",
    "%cd /notebooks/stable-diffusion-webui/models/Stable-diffusion\n",
    "!wget https://huggingface.co/Hemlok/RainierMix/resolve/main/Modified-Model/RainierMixV2-fix.ckpt\n",
    "!wget https://huggingface.co/andite/anything-v4.0/resolve/main/anything-v4.0.vae.pt"
   ]
  },
  {
   "cell_type": "code",
   "execution_count": null,
   "id": "0470dcd1-954c-490e-a96c-fa10b1287c6b",
   "metadata": {},
   "outputs": [],
   "source": [
    "#Extensions追加用。ai:artはそれぞれid:password。導入したら通常起動用で再起動してください。\n",
    "%cd /notebooks/stable-diffusion-webui\n",
    "!python launch.py --share --gradio-auth ai:art --enable-insecure-extension-access"
   ]
  },
  {
   "cell_type": "code",
   "execution_count": null,
   "id": "3e533c22-1187-434c-8b15-5e50bf96eaf3",
   "metadata": {},
   "outputs": [],
   "source": [
    "#通常起動用(2回目以降やシャットダウン後の再開等はここから。)\n",
    "%cd /notebooks/stable-diffusion-webui\n",
    "!python launch.py --share --gradio-queue --no-half-vae"
   ]
  }
 ],
 "metadata": {
  "kernelspec": {
   "display_name": "Python 3 (ipykernel)",
   "language": "python",
   "name": "python3"
  },
  "language_info": {
   "codemirror_mode": {
    "name": "ipython",
    "version": 3
   },
   "file_extension": ".py",
   "mimetype": "text/x-python",
   "name": "python",
   "nbconvert_exporter": "python",
   "pygments_lexer": "ipython3",
   "version": "3.9.13"
  }
 },
 "nbformat": 4,
 "nbformat_minor": 5
}
